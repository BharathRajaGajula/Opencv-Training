{
 "cells": [
  {
   "cell_type": "markdown",
   "metadata": {},
   "source": [
    "Installation Instructions :\n",
    "=\n",
    "\n",
    "Windows Python Installer :\n",
    "=\n",
    "pip install opencv-python <br>\n",
    "pip install scikit-image\n",
    "\n",
    "Ubuntu Python Installer :\n",
    "=\n",
    "pip3 install opencv-python <br>\n",
    "pip3 install scikit-image\n",
    "\n",
    "\n",
    "Installation Issues?\n",
    "=\n",
    "https://github.com/opencv/opencv/issues   <br>\n",
    "https://github.com/scikit-image/scikit-image/issues"
   ]
  },
  {
   "cell_type": "code",
   "execution_count": 1,
   "metadata": {},
   "outputs": [],
   "source": [
    "from skimage.feature import peak_local_max\n",
    "from skimage import img_as_float\n",
    "import cv2\n",
    "import matplotlib as mpl\n",
    "import matplotlib.pyplot as plt\n",
    "import numpy as np\n",
    "from PIL import Image"
   ]
  },
  {
   "cell_type": "markdown",
   "metadata": {},
   "source": [
    "<h2>Adaptive thresholding</h2>\n",
    "\n",
    "\n",
    "Adaptive thresholding, also called dynamic or local thresholding, establishes the threshold level for determining whether to convert to white or black at a regional level. The region sampled and method of evaluation vary between applications. Adaptive thresholding at a pixel level (in comparison with neighboring pixels) can yield highly superior results compared to global thresholding, particularly for images with varying levels of regional contrast differences."
   ]
  },
  {
   "cell_type": "code",
   "execution_count": 2,
   "metadata": {},
   "outputs": [],
   "source": [
    "def adaptive_thresholding(image):\n",
    "    output_image = cv2.adaptiveThreshold(image,255,cv2.ADAPTIVE_THRESH_GAUSSIAN_C,cv2.THRESH_BINARY,21,2)\n",
    "    return output_image"
   ]
  },
  {
   "cell_type": "markdown",
   "metadata": {},
   "source": [
    "<h2>Stroke Width</h2>\n",
    "\n",
    "Stroke Width is calculation of the Strokes based on the following math calculations:\n",
    "\n",
    "<b>Distance Transform:</b>\n",
    "Calculates the distance to the closest zero pixel for each pixel of the source image.\n",
    "<br>\n",
    "<br>\n",
    "<b>Peak local Maximum:</b>\n",
    "The peak_local_max function returns the coordinates of local peaks (maxima) in an image. Internally, a maximum filter is used for finding local maxima. This operation dilates the original image and merges neighboring local maxima closer than the size of the dilation. Locations where the original image is equal to the dilated image are returned as local maxima."
   ]
  },
  {
   "cell_type": "code",
   "execution_count": 3,
   "metadata": {},
   "outputs": [],
   "source": [
    "def stroke_width(image):\n",
    "    dist = cv2.distanceTransform(cv2.subtract(255,image), cv2.DIST_L2, 5)\n",
    "    im = img_as_float(dist)\n",
    "    coordinates = peak_local_max(im, min_distance=15)\n",
    "    pixel_strength = []\n",
    "    for element in coordinates:\n",
    "        x = element[0]\n",
    "        y = element[1]\n",
    "        pixel_strength.append(np.asarray(dist)[x,y])\n",
    "    mean_pixel_strength = np.asarray(pixel_strength).mean()\n",
    "    return mean_pixel_strength"
   ]
  },
  {
   "cell_type": "code",
   "execution_count": 4,
   "metadata": {},
   "outputs": [],
   "source": [
    "def plotting(image, cmap = None):\n",
    "    if cmap == 'gray':\n",
    "        height, width = image.shape\n",
    "    else:\n",
    "        image = cv2.cvtColor(image, cv2.COLOR_BGR2RGB)\n",
    "        height, width, depth = image.shape\n",
    "        \n",
    "    dpi = mpl.rcParams['figure.dpi']\n",
    "    # What size does the figure need to be in inches to fit the image?\n",
    "    figsize = width / float(dpi), height / float(dpi)\n",
    "\n",
    "    # Create a figure of the right size with one axes that takes up the full figure\n",
    "    fig = plt.figure(figsize=figsize)\n",
    "\n",
    "    # Display the image.\n",
    "    plt.imshow(image, cmap)"
   ]
  },
  {
   "cell_type": "code",
   "execution_count": 5,
   "metadata": {},
   "outputs": [
    {
     "data": {
      "text/plain": [
       "2.6352942"
      ]
     },
     "execution_count": 5,
     "metadata": {},
     "output_type": "execute_result"
    }
   ],
   "source": [
    "#reading an Image\n",
    "image = cv2.imread('abc.JPG', 0)\n",
    "process_image = adaptive_thresholding(image)\n",
    "stroke_width(process_image)"
   ]
  },
  {
   "cell_type": "code",
   "execution_count": 6,
   "metadata": {
    "scrolled": true
   },
   "outputs": [
    {
     "data": {
      "text/plain": [
       "2.6352942"
      ]
     },
     "execution_count": 6,
     "metadata": {},
     "output_type": "execute_result"
    }
   ],
   "source": [
    "stroke_width(process_image)"
   ]
  },
  {
   "cell_type": "code",
   "execution_count": 7,
   "metadata": {},
   "outputs": [
    {
     "data": {
      "image/png": "[encoded data removed]",
      "text/plain": [
       "<Figure size 208x107 with 1 Axes>"
      ]
     },
     "metadata": {
      "needs_background": "light"
     },
     "output_type": "display_data"
    }
   ],
   "source": [
    "plotting(image)"
   ]
  },
  {
   "cell_type": "code",
   "execution_count": 8,
   "metadata": {},
   "outputs": [
    {
     "data": {
      "text/plain": [
       "2.4195352"
      ]
     },
     "execution_count": 8,
     "metadata": {},
     "output_type": "execute_result"
    }
   ],
   "source": [
    "#reading an Image\n",
    "image = cv2.imread('abc0.JPG', 0)\n",
    "process_image = adaptive_thresholding(image)\n",
    "stroke_width(process_image)"
   ]
  },
  {
   "cell_type": "code",
   "execution_count": 9,
   "metadata": {},
   "outputs": [
    {
     "data": {
      "text/plain": [
       "2.4195352"
      ]
     },
     "execution_count": 9,
     "metadata": {},
     "output_type": "execute_result"
    }
   ],
   "source": [
    "stroke_width(process_image)"
   ]
  },
  {
   "cell_type": "code",
   "execution_count": 10,
   "metadata": {},
   "outputs": [
    {
     "data": {
      "image/png": "[encoded data removed]",
      "text/plain": [
       "<Figure size 196x102 with 1 Axes>"
      ]
     },
     "metadata": {
      "needs_background": "light"
     },
     "output_type": "display_data"
    }
   ],
   "source": [
    "plotting(image)"
   ]
  },
  {
   "cell_type": "code",
   "execution_count": 11,
   "metadata": {},
   "outputs": [
    {
     "data": {
      "text/plain": [
       "5.008405"
      ]
     },
     "execution_count": 11,
     "metadata": {},
     "output_type": "execute_result"
    }
   ],
   "source": [
    "#reading an Image\n",
    "image = cv2.imread('abc1.JPG', 0)\n",
    "process_image = adaptive_thresholding(image)\n",
    "stroke_width(process_image)"
   ]
  },
  {
   "cell_type": "code",
   "execution_count": 12,
   "metadata": {},
   "outputs": [
    {
     "data": {
      "text/plain": [
       "5.008405"
      ]
     },
     "execution_count": 12,
     "metadata": {},
     "output_type": "execute_result"
    }
   ],
   "source": [
    "stroke_width(process_image)"
   ]
  },
  {
   "cell_type": "code",
   "execution_count": 13,
   "metadata": {},
   "outputs": [
    {
     "data": {
      "image/png": "[encoded data removed]",
      "text/plain": [
       "<Figure size 241x130 with 1 Axes>"
      ]
     },
     "metadata": {
      "needs_background": "light"
     },
     "output_type": "display_data"
    }
   ],
   "source": [
    "plotting(image)"
   ]
  }
 ],
 "metadata": {
  "kernelspec": {
   "display_name": "Python 3",
   "language": "python",
   "name": "python3"
  },
  "language_info": {
   "codemirror_mode": {
    "name": "ipython",
    "version": 3
   },
   "file_extension": ".py",
   "mimetype": "text/x-python",
   "name": "python",
   "nbconvert_exporter": "python",
   "pygments_lexer": "ipython3",
   "version": "3.8.5"
  }
 },
 "nbformat": 4,
 "nbformat_minor": 4
}
