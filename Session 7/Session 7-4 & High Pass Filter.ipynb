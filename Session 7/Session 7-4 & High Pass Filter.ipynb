{
 "cells": [
  {
   "cell_type": "markdown",
   "metadata": {},
   "source": [
    "<h1> High Pass Filter"
   ]
  },
  {
   "cell_type": "code",
   "execution_count": 1,
   "metadata": {},
   "outputs": [],
   "source": [
    "#importing the libraries\n",
    "import numpy as np\n",
    "import cv2\n",
    "from scipy import ndimage"
   ]
  },
  {
   "cell_type": "code",
   "execution_count": 2,
   "metadata": {},
   "outputs": [],
   "source": [
    "kernel_3x3 = np.array([[-1,-1,-1],\n",
    "                    [-1,8,-1],\n",
    "                    [-1,-1,-1]])\n",
    "kernel_5X5 = np.array([[-1,-1,-1,-1,-1],\n",
    "                        [-1,1,2,1,-1],\n",
    "                        [-1,2,4,2,-1],\n",
    "                        [-1,1,2,1,-1],\n",
    "                        [-1,-1,-1,-1,-1]])"
   ]
  },
  {
   "cell_type": "code",
   "execution_count": 3,
   "metadata": {},
   "outputs": [],
   "source": [
    "img = cv2.imread('canny_result.jpg',0)\n",
    "\n",
    "k3 = ndimage.convolve(img,kernel_3x3)\n",
    "k5 = ndimage.convolve(img,kernel_5X5)\n",
    "\n",
    "blurred = cv2.GaussianBlur(img , (11,11),0)\n",
    "g_hpf = img - blurred\n",
    "\n",
    "cv2.imshow('3X3',k3)\n",
    "cv2.imshow('5X5',k5)\n",
    "cv2.imshow('Guassian',g_hpf)\n",
    "cv2.waitKey(0) & 0XFF\n",
    "cv2.destroyAllWindows()"
   ]
  }
 ],
 "metadata": {
  "kernelspec": {
   "display_name": "Python 3",
   "language": "python",
   "name": "python3"
  },
  "language_info": {
   "codemirror_mode": {
    "name": "ipython",
    "version": 3
   },
   "file_extension": ".py",
   "mimetype": "text/x-python",
   "name": "python",
   "nbconvert_exporter": "python",
   "pygments_lexer": "ipython3",
   "version": "3.8.5"
  }
 },
 "nbformat": 4,
 "nbformat_minor": 4
}
