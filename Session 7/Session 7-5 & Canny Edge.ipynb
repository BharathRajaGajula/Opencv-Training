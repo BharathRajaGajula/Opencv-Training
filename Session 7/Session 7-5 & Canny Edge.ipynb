{
 "cells": [
  {
   "cell_type": "markdown",
   "metadata": {},
   "source": [
    "<h1>Canny Edge"
   ]
  },
  {
   "cell_type": "code",
   "execution_count": 1,
   "metadata": {},
   "outputs": [],
   "source": [
    "#importing the libraries\n",
    "import numpy as np\n",
    "import cv2"
   ]
  },
  {
   "cell_type": "code",
   "execution_count": 2,
   "metadata": {},
   "outputs": [],
   "source": [
    "# four steps involving canny\n",
    "#1 Noise Reduction\n",
    "#2 Finding Intensity Gradient of the Image\n",
    "#3 Non-maximum Suppression\n",
    "#4 Hysteresis Thresholding\n",
    "#https://docs.opencv.org/master/da/d22/tutorial_py_canny.html"
   ]
  },
  {
   "cell_type": "code",
   "execution_count": 3,
   "metadata": {},
   "outputs": [],
   "source": [
    "img = cv2.imread('canny.jpg')\n",
    "cv2.imwrite(\"canny_result.jpg\",cv2.Canny(img,200,300))\n",
    "cv2.imshow(\"canny\",cv2.imread(\"canny_result.jpg\"))\n",
    "cv2.waitKey(0) & 0XFF\n",
    "cv2.destroyAllWindows()"
   ]
  }
 ],
 "metadata": {
  "kernelspec": {
   "display_name": "Python 3",
   "language": "python",
   "name": "python3"
  },
  "language_info": {
   "codemirror_mode": {
    "name": "ipython",
    "version": 3
   },
   "file_extension": ".py",
   "mimetype": "text/x-python",
   "name": "python",
   "nbconvert_exporter": "python",
   "pygments_lexer": "ipython3",
   "version": "3.8.5"
  }
 },
 "nbformat": 4,
 "nbformat_minor": 4
}
