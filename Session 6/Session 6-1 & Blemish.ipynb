{
 "cells": [
  {
   "cell_type": "markdown",
   "metadata": {},
   "source": [
    "<h1>Blemish"
   ]
  },
  {
   "cell_type": "code",
   "execution_count": 4,
   "metadata": {},
   "outputs": [],
   "source": [
    "#importing the libraries\n",
    "import cv2\n",
    "import numpy as np"
   ]
  },
  {
   "cell_type": "code",
   "execution_count": 7,
   "metadata": {},
   "outputs": [],
   "source": [
    "def click(event, x, y, flags, param):\n",
    "    global img\n",
    "    filterRadius = 25\n",
    "    roi = img[y:y + filterRadius, x:x + filterRadius]\n",
    "    clickLocation = (x, y)\n",
    "\n",
    "    if event == cv2.EVENT_LBUTTONDOWN:\n",
    "        imgBlur = cv2.blur(roi, (3,3), 5)\n",
    "        sobelxy = cv2.Sobel(imgBlur, cv2.CV_32F, 1, 1) #The function calculates an image derivative by convolving the image with kernel [[-1 0 1] [-2 0 2] [-1 0 1]]\n",
    "        mask = 255 * np.ones(roi.shape, roi.dtype)\n",
    "        img = cv2.seamlessClone(sobelxy, img, mask, clickLocation, cv2.NORMAL_CLONE)\n",
    "\n",
    "        # Used for testing in the beginning\n",
    "        '''\n",
    "        img = cv2.circle(img, clickLocation, 2, (0, 255, 0), 2)\n",
    "        imgBlur = cv2.GaussianBlur(roi, (5, 5), 7)\n",
    "        '''\n",
    "        cv2.imshow(\"blemish\", img)"
   ]
  },
  {
   "cell_type": "code",
   "execution_count": 8,
   "metadata": {},
   "outputs": [],
   "source": [
    "img = cv2.imread(\"blemish.png\")\n",
    "cv2.imshow(\"blemish\", img)\n",
    "    \n",
    "cv2.setMouseCallback(\"blemish\", click)\n",
    "cv2.waitKey(0) & 0xFF\n",
    "cv2.destroyAllWindows()"
   ]
  },
  {
   "cell_type": "code",
   "execution_count": null,
   "metadata": {},
   "outputs": [],
   "source": []
  }
 ],
 "metadata": {
  "kernelspec": {
   "display_name": "Python 3",
   "language": "python",
   "name": "python3"
  },
  "language_info": {
   "codemirror_mode": {
    "name": "ipython",
    "version": 3
   },
   "file_extension": ".py",
   "mimetype": "text/x-python",
   "name": "python",
   "nbconvert_exporter": "python",
   "pygments_lexer": "ipython3",
   "version": "3.8.5"
  }
 },
 "nbformat": 4,
 "nbformat_minor": 4
}
