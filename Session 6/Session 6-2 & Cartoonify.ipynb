{
 "cells": [
  {
   "cell_type": "markdown",
   "metadata": {},
   "source": [
    "<h1>Cartoonify"
   ]
  },
  {
   "cell_type": "code",
   "execution_count": 4,
   "metadata": {},
   "outputs": [],
   "source": [
    "#importing all libraries\n",
    "import cv2\n",
    "import matplotlib.pyplot as plt\n",
    "import numpy as np"
   ]
  },
  {
   "cell_type": "code",
   "execution_count": 5,
   "metadata": {},
   "outputs": [],
   "source": [
    "def cartoonify(image, arguments=0):\n",
    "    ### YOUR CODE HERE\n",
    "    imageGray = cv2.cvtColor(image, cv2.COLOR_BGR2GRAY)\n",
    "    pencilSketchImage = cv2.adaptiveThreshold(imageGray, 255,\n",
    "                                              cv2.ADAPTIVE_THRESH_MEAN_C,\n",
    "                                              cv2.THRESH_BINARY,\n",
    "                                              blockSize=9,\n",
    "                                              C=7)\n",
    "    #Adaptive thresholding is the method where the threshold value is calculated for smaller regions and therefore, there will be different threshold values for different regions\n",
    "    #https://docs.opencv.org/master/d7/d1b/group__imgproc__misc.html#ga72b913f352e4a1b1b397736707afcd\n",
    "    \n",
    "    cartoonImage = cv2.bitwise_and(image, image, mask=pencilSketchImage)\n",
    "\n",
    "    return cartoonImage"
   ]
  },
  {
   "cell_type": "code",
   "execution_count": 6,
   "metadata": {},
   "outputs": [],
   "source": [
    "image = cv2.imread(\"trump.jpg\")\n",
    "\n",
    "cartoonImage = cartoonify(image)\n",
    "cv2.imshow(\"cartoon\", cartoonImage)\n",
    "cv2.waitKey(0) & 0xFF\n",
    "cv2.destroyAllWindows()"
   ]
  }
 ],
 "metadata": {
  "kernelspec": {
   "display_name": "Python 3",
   "language": "python",
   "name": "python3"
  },
  "language_info": {
   "codemirror_mode": {
    "name": "ipython",
    "version": 3
   },
   "file_extension": ".py",
   "mimetype": "text/x-python",
   "name": "python",
   "nbconvert_exporter": "python",
   "pygments_lexer": "ipython3",
   "version": "3.8.5"
  }
 },
 "nbformat": 4,
 "nbformat_minor": 4
}
