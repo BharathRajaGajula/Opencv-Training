{
 "cells": [
  {
   "cell_type": "markdown",
   "metadata": {},
   "source": [
    "<h1>Chromakey"
   ]
  },
  {
   "cell_type": "code",
   "execution_count": 4,
   "metadata": {},
   "outputs": [],
   "source": [
    "#importing the libraries\n",
    "import cv2\n",
    "import numpy as np"
   ]
  },
  {
   "cell_type": "code",
   "execution_count": 6,
   "metadata": {},
   "outputs": [
    {
     "name": "stdout",
     "output_type": "stream",
     "text": [
      "<class 'numpy.ndarray'>\n"
     ]
    }
   ],
   "source": [
    "# Read video, get first frame\n",
    "cap = cv2.VideoCapture('greenscreen-asteroid.mp4')\n",
    "ret, frame = cap.read()\n",
    "\n",
    "# Test\n",
    "imgT = cv2.imread('blemish.png')\n",
    "\n",
    "# Select region\n",
    "r = cv2.selectROI(\"Select Color to Replace\", frame)\n",
    "# Crop drawn region\n",
    "imCrop = frame[int(r[1]):int(r[1]+r[3]), int(r[0]):int(r[0]+r[2])]\n",
    "\n",
    "# Get center pixel color of the drawn rectangle\n",
    "dimensions = imCrop.shape\n",
    "color = imCrop[int(dimensions[0]/2), int(dimensions[1]/2)]\n",
    "\n",
    "# Turn all pixels of selected color to black\n",
    "mask = cv2.inRange(frame, color, color)\n",
    "masked_asteroid = np.copy(frame)\n",
    "masked_asteroid[mask != 0] = [0, 0, 0]\n",
    "\n",
    "mask_on_second_image = np.copy(imgT)\n",
    "mask_on_second_image = cv2.resize(mask_on_second_image, (1280, 720))\n",
    "mask_on_second_image[mask == 0] = [0, 0, 0]\n",
    "\n",
    "final = masked_asteroid + mask_on_second_image\n",
    "cv2.imshow(\"new\", final)\n",
    "cv2.waitKey(0) & 0XFF\n",
    "\n",
    "def do_nothing(eventStuff):\n",
    "    pass\n",
    "\n",
    "print(type(color))\n",
    "\n",
    "cv2.namedWindow('Frame')\n",
    "cv2.createTrackbar(\"Tolerance Slider\", \"Frame\", 0, 100, do_nothing)\n",
    "\n",
    "while cap.isOpened():\n",
    "    ret, frame = cap.read()\n",
    "    if ret:\n",
    "        tolerance = cv2.getTrackbarPos(\"Tolerance Slider\", \"Frame\")\n",
    "        # Turn all pixels of selected color to black\n",
    "        colorMin = color.copy()\n",
    "        colorMax = color.copy()\n",
    "        colorMin[0] = colorMin[0] - tolerance\n",
    "        colorMax[0] = colorMax[0] + tolerance\n",
    "\n",
    "        mask = cv2.inRange(frame, colorMin, colorMax)\n",
    "        masked_asteroid = np.copy(frame)\n",
    "        masked_asteroid[mask != 0] = [0, 0, 0]\n",
    "\n",
    "        mask_on_second_image = np.copy(imgT)\n",
    "        mask_on_second_image = cv2.resize(mask_on_second_image, (1280, 720))\n",
    "        mask_on_second_image[mask == 0] = [0, 0, 0]\n",
    "\n",
    "        final = masked_asteroid + mask_on_second_image\n",
    "        cv2.imshow('Frame', final)\n",
    "        cv2.waitKey(10) & 0XFF\n",
    "    else:\n",
    "        break\n",
    "\n",
    "cap.release()\n",
    "cv2.destroyAllWindows()"
   ]
  }
 ],
 "metadata": {
  "kernelspec": {
   "display_name": "Python 3",
   "language": "python",
   "name": "python3"
  },
  "language_info": {
   "codemirror_mode": {
    "name": "ipython",
    "version": 3
   },
   "file_extension": ".py",
   "mimetype": "text/x-python",
   "name": "python",
   "nbconvert_exporter": "python",
   "pygments_lexer": "ipython3",
   "version": "3.8.5"
  }
 },
 "nbformat": 4,
 "nbformat_minor": 4
}
