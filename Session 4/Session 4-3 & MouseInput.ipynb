{
 "cells": [
  {
   "cell_type": "markdown",
   "metadata": {},
   "source": [
    "<h1> Mouse Input"
   ]
  },
  {
   "cell_type": "code",
   "execution_count": 1,
   "metadata": {},
   "outputs": [],
   "source": [
    "#importing the libraries\n",
    "import cv2\n",
    "import math"
   ]
  },
  {
   "cell_type": "code",
   "execution_count": 2,
   "metadata": {},
   "outputs": [],
   "source": [
    "def drawCircle(action, x, y, flags, userdata):\n",
    "    # Referencing global variables \n",
    "    global center, circumference\n",
    "    # Action to be taken when left mouse button is pressed\n",
    "    if action==cv2.EVENT_LBUTTONDOWN:\n",
    "        center=[(x,y)]\n",
    "        # Mark the center\n",
    "        cv2.circle(source, center[0], 1, (255,255,0), 2, cv2.LINE_AA )\n",
    "\n",
    "    # Action to be taken when left mouse button is released\n",
    "    elif action==cv2.EVENT_LBUTTONUP:\n",
    "        circumference=[(x,y)]\n",
    "        # Calculate radius of the circle\n",
    "        radius = math.sqrt(math.pow(center[0][0]-circumference[0][0],2)+math.pow(center[0][1]-circumference[0][1],2))\n",
    "        # Draw the circle\n",
    "        cv2.circle(source, center[0], int(radius), (0,255,0),2, cv2.LINE_AA)\n",
    "        cv2.imshow(\"Window\",source)"
   ]
  },
  {
   "cell_type": "code",
   "execution_count": 3,
   "metadata": {},
   "outputs": [],
   "source": [
    "# Lists to store the points\n",
    "center=[]\n",
    "circumference=[]\n",
    "\n",
    "\n",
    "source = cv2.imread(\"sample.jpg\",1)\n",
    "# Make a dummy image, will be useful to clear the drawing\n",
    "dummy = source.copy()\n",
    "\n",
    "\n",
    "k = 0\n",
    "# loop until escape character is pressed\n",
    "while k!=27 :\n",
    "\n",
    "    # highgui function called when mouse events occur\n",
    "    cv2.setMouseCallback(\"Window\", drawCircle)\n",
    "    \n",
    "    cv2.imshow(\"Window\", source)\n",
    "    cv2.putText(source,'''Choose center, and drag, \n",
    "                      Press ESC to exit and c to clear''' ,\n",
    "              (10,30), cv2.FONT_HERSHEY_SIMPLEX, \n",
    "              0.7,(255,255,255), 2 )\n",
    "    k = cv2.waitKey(20) & 0xFF\n",
    "    # Another way of cloning\n",
    "    if k==99:\n",
    "        source= dummy.copy()\n",
    "\n",
    "\n",
    "cv2.destroyAllWindows()"
   ]
  },
  {
   "cell_type": "code",
   "execution_count": null,
   "metadata": {},
   "outputs": [],
   "source": []
  }
 ],
 "metadata": {
  "kernelspec": {
   "display_name": "Python 3",
   "language": "python",
   "name": "python3"
  },
  "language_info": {
   "codemirror_mode": {
    "name": "ipython",
    "version": 3
   },
   "file_extension": ".py",
   "mimetype": "text/x-python",
   "name": "python",
   "nbconvert_exporter": "python",
   "pygments_lexer": "ipython3",
   "version": "3.8.5"
  }
 },
 "nbformat": 4,
 "nbformat_minor": 4
}
