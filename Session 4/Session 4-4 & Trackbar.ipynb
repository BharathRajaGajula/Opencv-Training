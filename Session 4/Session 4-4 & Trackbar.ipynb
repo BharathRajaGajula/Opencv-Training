{
 "cells": [
  {
   "cell_type": "markdown",
   "metadata": {},
   "source": [
    "<h1>Trackbar"
   ]
  },
  {
   "cell_type": "code",
   "execution_count": 1,
   "metadata": {},
   "outputs": [],
   "source": [
    "#importing libraries\n",
    "import cv2"
   ]
  },
  {
   "cell_type": "code",
   "execution_count": 2,
   "metadata": {},
   "outputs": [],
   "source": [
    "# Callback functions\n",
    "def scaleImage(*args):\n",
    "    global scaleFactor\n",
    "\n",
    "    # Perform check if scaleFactor is zero\n",
    "    if scaleFactor == 0:\n",
    "        scaleFactor = 1\n",
    "\n",
    "    # Scale Image according to the scale type\n",
    "    if scaleType == 1:\n",
    "        scaleFactor = 1 - args[0] / 100.0\n",
    "    else:\n",
    "        scaleFactor = 1 + args[0] / 100.0\n",
    "\n",
    "    # Resize the image\n",
    "    scaledImage = cv2.resize(im, None, fx=scaleFactor,\n",
    "                             fy=scaleFactor, interpolation=cv2.INTER_LINEAR)\n",
    "    cv2.imshow(windowName, scaledImage)\n",
    "\n",
    "\n",
    "# Callback functions\n",
    "def scaleTypeImage(*args):\n",
    "    global scaleType\n",
    "    global scaleFactor\n",
    "    scaleType = args[0]\n",
    "    scaleFactor = 1 + scaleFactor / 100.0\n",
    "    if scaleFactor == 0:\n",
    "        scaleFactor = 1\n",
    "\n",
    "    scaledImage = cv2.resize(im, None, fx=scaleFactor,\n",
    "                             fy=scaleFactor, interpolation=cv2.INTER_LINEAR)\n",
    "    cv2.imshow(windowName, scaledImage)"
   ]
  },
  {
   "cell_type": "code",
   "execution_count": 3,
   "metadata": {},
   "outputs": [],
   "source": [
    "maxScaleUp = 100\n",
    "scaleFactor = 1\n",
    "scaleType = 0\n",
    "maxType = 1\n",
    "\n",
    "windowName = \"Resize Image\"\n",
    "trackbarValue = \"Scale\"\n",
    "trackbarType = \"Type: \\n 0: Scale Up \\n 1: Scale Down\"\n",
    "\n",
    "# load an image\n",
    "im = cv2.imread(\"truth.png\")\n",
    "\n",
    "# Create a window to display results\n",
    "cv2.namedWindow(windowName, cv2.WINDOW_AUTOSIZE)\n",
    "\n",
    "cv2.createTrackbar(trackbarValue, windowName, scaleFactor, maxScaleUp, scaleImage)\n",
    "cv2.createTrackbar(trackbarType, windowName, scaleType, maxType, scaleTypeImage)\n",
    "\n",
    "cv2.imshow(windowName, im)\n",
    "\n",
    "c = cv2.waitKey(0)\n",
    "\n",
    "cv2.destroyAllWindows()"
   ]
  },
  {
   "cell_type": "code",
   "execution_count": null,
   "metadata": {},
   "outputs": [],
   "source": []
  }
 ],
 "metadata": {
  "kernelspec": {
   "display_name": "Python 3",
   "language": "python",
   "name": "python3"
  },
  "language_info": {
   "codemirror_mode": {
    "name": "ipython",
    "version": 3
   },
   "file_extension": ".py",
   "mimetype": "text/x-python",
   "name": "python",
   "nbconvert_exporter": "python",
   "pygments_lexer": "ipython3",
   "version": "3.8.5"
  }
 },
 "nbformat": 4,
 "nbformat_minor": 4
}
