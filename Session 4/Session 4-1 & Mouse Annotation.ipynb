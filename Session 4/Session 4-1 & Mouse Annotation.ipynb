{
 "cells": [
  {
   "cell_type": "markdown",
   "metadata": {},
   "source": [
    "<h1>Mouse Annotation"
   ]
  },
  {
   "cell_type": "code",
   "execution_count": 1,
   "metadata": {},
   "outputs": [],
   "source": [
    "#importing libraries\n",
    "import cv2"
   ]
  },
  {
   "cell_type": "code",
   "execution_count": 2,
   "metadata": {},
   "outputs": [],
   "source": [
    "def drawRect(action, x, y, flags, userdata):\n",
    "    # Referencing global variables \n",
    "    global center, circumference, rectangle, buttonPressed\n",
    "    # Action to be taken when left mouse button is pressed\n",
    "    if action == cv2.EVENT_LBUTTONDOWN:\n",
    "        buttonPressed = True\n",
    "        startPos = [(x, y)]\n",
    "        rectangle.append(startPos)\n",
    "        # Draw the starting dot\n",
    "        cv2.rectangle(source, pt1=startPos[0], pt2=startPos[0], color=(255, 255, 0), thickness=2, lineType=cv2.LINE_AA)\n",
    "\n",
    "    # Action to be taken when left mouse button is released\n",
    "    elif action == cv2.EVENT_LBUTTONUP:\n",
    "        buttonPressed = False\n",
    "        endPos = [(x, y)]\n",
    "        rectangle.append(endPos)\n",
    "        # Draw the rectangle\n",
    "        cv2.rectangle(source, rectangle[0][0], rectangle[1][0], (255, 255, 0), 2, cv2.LINE_AA)\n",
    "        cv2.imshow(\"Window\", source)\n",
    "\n",
    "        # Save the cropped image\n",
    "        crop = source[rectangle[0][0][1]:rectangle[1][0][1], rectangle[0][0][0]:rectangle[1][0][0]]\n",
    "        cv2.imwrite(\"face.png\", crop)\n",
    "\n",
    "        rectangle = []"
   ]
  },
  {
   "cell_type": "code",
   "execution_count": 3,
   "metadata": {},
   "outputs": [],
   "source": [
    "# Lists to store the points\n",
    "center = []\n",
    "circumference = []\n",
    "rectangle = []\n",
    "buttonPressed = False\n",
    "\n",
    "source = cv2.imread(\"sample.jpg\", 1)\n",
    "# Make a dummy image, will be useful to clear the drawing\n",
    "dummy = source.copy()\n",
    "\n",
    "k = 0\n",
    "# loop until escape character is pressed\n",
    "while k != 27:\n",
    "\n",
    "    # highgui function called when mouse events occur\n",
    "    cv2.setMouseCallback(\"Window\", drawRect)\n",
    "\n",
    "    cv2.imshow(\"Window\", source)\n",
    "    cv2.putText(source, '''Choose center, and drag, \n",
    "                      Press ESC to exit and c to clear''',\n",
    "                (10, 30), cv2.FONT_ITALIC,\n",
    "                0.7, (255, 255, 255), 2)\n",
    "    k = cv2.waitKey(20) & 0xFF\n",
    "    # Another way of cloning\n",
    "    if k == 99:\n",
    "        source = dummy.copy()\n",
    "\n",
    "cv2.destroyAllWindows()"
   ]
  },
  {
   "cell_type": "code",
   "execution_count": null,
   "metadata": {},
   "outputs": [],
   "source": []
  }
 ],
 "metadata": {
  "kernelspec": {
   "display_name": "Python 3",
   "language": "python",
   "name": "python3"
  },
  "language_info": {
   "codemirror_mode": {
    "name": "ipython",
    "version": 3
   },
   "file_extension": ".py",
   "mimetype": "text/x-python",
   "name": "python",
   "nbconvert_exporter": "python",
   "pygments_lexer": "ipython3",
   "version": "3.8.5"
  }
 },
 "nbformat": 4,
 "nbformat_minor": 4
}
