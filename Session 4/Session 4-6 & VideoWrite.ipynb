{
 "cells": [
  {
   "cell_type": "markdown",
   "metadata": {},
   "source": [
    "<h1>Video Write"
   ]
  },
  {
   "cell_type": "code",
   "execution_count": 1,
   "metadata": {},
   "outputs": [],
   "source": [
    "# Import module\n",
    "import cv2"
   ]
  },
  {
   "cell_type": "code",
   "execution_count": 2,
   "metadata": {},
   "outputs": [],
   "source": [
    "#capturing the video\n",
    "cap = cv2.VideoCapture('chaplin.mp4')\n",
    "\n",
    "# Check if camera opened successfully\n",
    "if (cap.isOpened() == False):\n",
    "    print(\"Error opening video stream or file\")\n",
    "\n",
    "else:\n",
    "    # Default resolutions of the frame are obtained.\n",
    "    # Convert the resolutions from float to integer.\n",
    "    frame_width = int(cap.get(3))\n",
    "    frame_height = int(cap.get(4))\n",
    "\n",
    "    # Define the codec and create VideoWriter object.\n",
    "    outavi = cv2.VideoWriter('output.avi', cv2.VideoWriter_fourcc('M', 'J', 'P', 'G'), 10, (frame_width, frame_height))\n",
    "    outmp4 = cv2.VideoWriter('output.mp4', cv2.VideoWriter_fourcc(*'XVID'), 5, (frame_width, frame_height))\n",
    "\n",
    "    # Read until video is completed\n",
    "    while (cap.isOpened()):\n",
    "        # Capture frame-by-frame\n",
    "        ret, frame = cap.read()\n",
    "\n",
    "        if ret == True:\n",
    "\n",
    "            # Write the frame into the file 'outputChaplin.mp4'\n",
    "            outavi.write(frame)\n",
    "            outmp4.write(frame)\n",
    "\n",
    "            # Wait for 25 ms before moving on to the next frame\n",
    "            # This will slow down the video\n",
    "            cv2.imshow(\"Frame\", frame)\n",
    "            k = cv2.waitKey(25)\n",
    "            if k == 27:\n",
    "                break\n",
    "\n",
    "        # Break the loop\n",
    "        else:\n",
    "            break\n",
    "\n",
    "    # When everything done, release the VideoCapture and VideoWriter objects\n",
    "    cap.release()\n",
    "    outavi.release()\n",
    "    outmp4.release()"
   ]
  },
  {
   "cell_type": "code",
   "execution_count": null,
   "metadata": {},
   "outputs": [],
   "source": []
  }
 ],
 "metadata": {
  "kernelspec": {
   "display_name": "Python 3",
   "language": "python",
   "name": "python3"
  },
  "language_info": {
   "codemirror_mode": {
    "name": "ipython",
    "version": 3
   },
   "file_extension": ".py",
   "mimetype": "text/x-python",
   "name": "python",
   "nbconvert_exporter": "python",
   "pygments_lexer": "ipython3",
   "version": "3.8.5"
  }
 },
 "nbformat": 4,
 "nbformat_minor": 4
}
